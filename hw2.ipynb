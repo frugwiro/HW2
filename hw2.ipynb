{
 "cells": [
  {
   "cell_type": "code",
   "execution_count": 1,
   "metadata": {},
   "outputs": [
    {
     "name": "stdout",
     "output_type": "stream",
     "text": [
      "2.4.1\n"
     ]
    }
   ],
   "source": [
    "# TensorFlow and tf.keras\n",
    "import tensorflow as tf\n",
    "\n",
    "# Helper libraries\n",
    "import numpy as np\n",
    "import matplotlib.pyplot as plt\n",
    "\n",
    "from tensorflow.keras import Input, layers\n",
    "\n",
    "print(tf.__version__)\n"
   ]
  },
  {
   "cell_type": "code",
   "execution_count": 2,
   "metadata": {},
   "outputs": [],
   "source": [
    "# ##def unpickle(file):\n",
    "#     import pickle\n",
    "#     with open(file, 'rb') as fo:\n",
    "#         dict = pickle.load(fo, encoding='bytes')\n",
    "#     return dict"
   ]
  },
  {
   "cell_type": "code",
   "execution_count": 3,
   "metadata": {},
   "outputs": [],
   "source": [
    "# filepath = './cifar-10-batches-py/data_batch_1'\n",
    "# data = unpickle(filepath)"
   ]
  },
  {
   "cell_type": "code",
   "execution_count": 4,
   "metadata": {},
   "outputs": [],
   "source": [
    "# data[b'data'].shape"
   ]
  },
  {
   "cell_type": "code",
   "execution_count": 8,
   "metadata": {},
   "outputs": [],
   "source": [
    "# load train and test dataset\n",
    "def load_dataset():\n",
    "    # load dataset\n",
    "    trainX, trainY, testX, testY = load_dataset()\n",
    "    print('ifinished loading the dataset')\n",
    "    # prepare pixel data\n",
    "    trainX, testX = prep_pixels(trainX, testX)\n",
    "    print('ifinished prep the dataset')\n",
    "    # define model\n",
    "    model = define_model()\n",
    "    print('ifinished defining model')\n",
    "    print(model.summary())\n",
    "    # fit model\n",
    "    history = model.fit(trainX, trainY, epochs=50, batch_size=64, validation_data=(testX, testY), verbose=0)\n",
    "    print('ifinished training the model')\n",
    "    # evaluate model\n",
    "    _, acc = model.evaluate(testX, testY, verbose=0)\n",
    "    print('> %.3f' % (acc * 100.0))\n",
    "    # learning curves\n",
    "    summarize_diagnostics(history)\n",
    "    # entry point, run the test harness"
   ]
  },
  {
   "cell_type": "code",
   "execution_count": 9,
   "metadata": {},
   "outputs": [],
   "source": [
    "# test harness for evaluating models on the cifar10 dataset\n",
    "import sys\n",
    "from matplotlib import pyplot\n",
    "from keras.datasets import cifar10\n",
    "from keras.utils import to_categorical\n",
    "from keras.models import Sequential\n",
    "from keras.layers import Conv2D,DepthwiseConv2D\n",
    "from keras.layers import MaxPooling2D\n",
    "from keras.layers import Dense\n",
    "from keras.layers import Flatten\n",
    "from keras.optimizers import SGD, Adam\n",
    "\n",
    "# load train and test dataset\n",
    "def load_dataset():\n",
    "    # load dataset\n",
    "    (trainX, trainY), (testX, testY) = cifar10.load_data()\n",
    "    # one hot encode target values\n",
    "    trainY = to_categorical(trainY)\n",
    "    testY = to_categorical(testY)\n",
    "    return trainX, trainY, testX, testY\n",
    "\n",
    "# scale pixels\n",
    "def prep_pixels(train, test):\n",
    "    # convert from integers to floats\n",
    "    train_norm = train.astype('float32')\n",
    "    test_norm = test.astype('float32')\n",
    "    # normalize to range 0-1\n",
    "    train_norm = train_norm / 255.0\n",
    "    test_norm = test_norm / 255.0\n",
    "    # return normalized images\n",
    "    return train_norm, test_norm\n",
    "\n",
    "# define cnn model\n",
    "def define_model(depthwise=False):\n",
    "    model = Sequential()\n",
    "    if depthwise:\n",
    "        model.add(DepthwiseConv2D((3, 3), activation='relu', kernel_initializer='he_uniform', \n",
    "                                  strides=(2, 2), padding='same', input_shape=(32, 32, 3)))\n",
    "        model.add(Conv2D(32, (1,1)))\n",
    "        model.add(DepthwiseConv2D((3, 3), activation='relu', kernel_initializer='he_uniform',\n",
    "                                 strides=(2, 2), padding='same'))\n",
    "        model.add(Conv2D(64, (1,1)))\n",
    "    else:\n",
    "    \n",
    "        model.add(Conv2D(32, (3, 3), activation='relu', kernel_initializer='he_uniform',\n",
    "            strides=(2,2), padding='same', input_shape=(32, 32, 3)))\n",
    "        model.add(Conv2D(64, (3, 3), activation='relu', kernel_initializer='he_uniform',\n",
    "            strides=(2,2), padding='same'))\n",
    "    model.add(MaxPooling2D((2, 2), strides=(2,2)))\n",
    "    model.add(Flatten())\n",
    "    model.add(Dense(1024, activation='relu', kernel_initializer='he_uniform'))\n",
    "    model.add(Dense(10, activation='softmax'))\n",
    "    # compile model\n",
    "    opt = SGD(lr=0.001, momentum=0.9)\n",
    "    model.compile(optimizer=opt, loss='categorical_crossentropy', metrics=['accuracy'])\n",
    "    return model\n",
    "\n",
    "# plot diagnostic learning curves\n",
    "def summarize_diagnostics(history):\n",
    "    # plot loss\n",
    "    pyplot.subplot(211)\n",
    "    pyplot.title('Cross Entropy Loss')\n",
    "    pyplot.plot(history.history['loss'], color='blue', label='train')\n",
    "    pyplot.plot(history.history['val_loss'], color='orange', label='test')\n",
    "    # plot accuracy\n",
    "    pyplot.subplot(212)\n",
    "    pyplot.title('Classification Accuracy')\n",
    "    pyplot.plot(history.history['accuracy'], color='blue', label='train')\n",
    "    pyplot.plot(history.history['val_accuracy'], color='orange', label='test')\n",
    "    # save plot to file\n",
    "    filename = sys.argv[0].split('/')[-1]\n",
    "#    pyplot.savefig(filename + '_plot.png')\n",
    "    pyplot.show()\n",
    "    pyplot.close()\n",
    "    "
   ]
  },
  {
   "cell_type": "code",
   "execution_count": 10,
   "metadata": {},
   "outputs": [
    {
     "name": "stdout",
     "output_type": "stream",
     "text": [
      "ifinished loading the dataset\n",
      "ifinished prep the dataset\n",
      "ifinished defining model\n",
      "Model: \"sequential\"\n",
      "_________________________________________________________________\n",
      "Layer (type)                 Output Shape              Param #   \n",
      "=================================================================\n",
      "depthwise_conv2d (DepthwiseC (None, 16, 16, 3)         30        \n",
      "_________________________________________________________________\n",
      "conv2d (Conv2D)              (None, 16, 16, 32)        128       \n",
      "_________________________________________________________________\n",
      "depthwise_conv2d_1 (Depthwis (None, 8, 8, 32)          320       \n",
      "_________________________________________________________________\n",
      "conv2d_1 (Conv2D)            (None, 8, 8, 64)          2112      \n",
      "_________________________________________________________________\n",
      "max_pooling2d (MaxPooling2D) (None, 4, 4, 64)          0         \n",
      "_________________________________________________________________\n",
      "flatten (Flatten)            (None, 1024)              0         \n",
      "_________________________________________________________________\n",
      "dense (Dense)                (None, 1024)              1049600   \n",
      "_________________________________________________________________\n",
      "dense_1 (Dense)              (None, 10)                10250     \n",
      "=================================================================\n",
      "Total params: 1,062,440\n",
      "Trainable params: 1,062,440\n",
      "Non-trainable params: 0\n",
      "_________________________________________________________________\n",
      "None\n",
      "ifinished training the model\n",
      "> 56.010\n"
     ]
    },
    {
     "data": {
      "image/png": "[encoded data removed]",
      "text/plain": [
       "<Figure size 432x288 with 2 Axes>"
      ]
     },
     "metadata": {
      "needs_background": "light"
     },
     "output_type": "display_data"
    }
   ],
   "source": [
    "#with Depthwise\n",
    "# load dataset\n",
    "trainX, trainY, testX, testY = load_dataset()\n",
    "print('ifinished loading the dataset')\n",
    "# prepare pixel data\n",
    "trainX, testX = prep_pixels(trainX, testX)\n",
    "print('ifinished prep the dataset')\n",
    "# define model\n",
    "model = define_model(depthwise=True)\n",
    "print('ifinished defining model')\n",
    "print(model.summary())\n",
    "# fit model\n",
    "history = model.fit(trainX, trainY, epochs=50, batch_size=64, validation_data=(testX, testY), verbose=0)\n",
    "print('ifinished training the model')\n",
    "# evaluate model\n",
    "_, acc = model.evaluate(testX, testY, verbose=0)\n",
    "print('> %.3f' % (acc * 100.0))\n",
    "# learning curves\n",
    "summarize_diagnostics(history)\n",
    "# entry point, run the test harness"
   ]
  },
  {
   "cell_type": "code",
   "execution_count": 11,
   "metadata": {},
   "outputs": [
    {
     "name": "stdout",
     "output_type": "stream",
     "text": [
      "<class 'numpy.ndarray'>\n",
      "(32, 32, 3)\n"
     ]
    }
   ],
   "source": [
    "from PIL import Image\n",
    "from numpy import asarray\n",
    "# load the image\n",
    "image = Image.open('aeroplane.jpeg')\n",
    "# convert image to numpy array\n",
    "data = asarray(image)\n",
    "print(type(data))\n",
    "# summarize shape\n",
    "print(data.shape)"
   ]
  },
  {
   "cell_type": "code",
   "execution_count": 12,
   "metadata": {},
   "outputs": [],
   "source": [
    "data_norm = data.astype('float32')"
   ]
  },
  {
   "cell_type": "code",
   "execution_count": 13,
   "metadata": {},
   "outputs": [
    {
     "data": {
      "text/plain": [
       "array([[[ 45., 132., 209.],\n",
       "        [ 48., 132., 204.],\n",
       "        [ 52., 132., 195.],\n",
       "        ...,\n",
       "        [ 52., 139., 206.],\n",
       "        [ 53., 141., 205.],\n",
       "        [ 54., 142., 206.]],\n",
       "\n",
       "       [[ 53., 129., 207.],\n",
       "        [ 53., 129., 205.],\n",
       "        [ 54., 130., 205.],\n",
       "        ...,\n",
       "        [ 55., 137., 210.],\n",
       "        [ 56., 138., 211.],\n",
       "        [ 57., 140., 210.]],\n",
       "\n",
       "       [[ 54., 130., 206.],\n",
       "        [ 53., 130., 208.],\n",
       "        [ 50., 131., 210.],\n",
       "        ...,\n",
       "        [ 58., 136., 211.],\n",
       "        [ 60., 136., 212.],\n",
       "        [ 63., 136., 213.]],\n",
       "\n",
       "       ...,\n",
       "\n",
       "       [[219., 222., 237.],\n",
       "        [216., 216., 228.],\n",
       "        [217., 213., 227.],\n",
       "        ...,\n",
       "        [167., 187., 211.],\n",
       "        [162., 183., 200.],\n",
       "        [165., 187., 200.]],\n",
       "\n",
       "       [[211., 221., 231.],\n",
       "        [218., 222., 231.],\n",
       "        [223., 221., 232.],\n",
       "        ...,\n",
       "        [162., 183., 214.],\n",
       "        [161., 180., 210.],\n",
       "        [171., 190., 220.]],\n",
       "\n",
       "       [[195., 210., 217.],\n",
       "        [211., 220., 225.],\n",
       "        [221., 222., 227.],\n",
       "        ...,\n",
       "        [172., 188., 222.],\n",
       "        [161., 175., 222.],\n",
       "        [164., 175., 229.]]], dtype=float32)"
      ]
     },
     "execution_count": 13,
     "metadata": {},
     "output_type": "execute_result"
    }
   ],
   "source": [
    "data_norm"
   ]
  },
  {
   "cell_type": "code",
   "execution_count": 14,
   "metadata": {},
   "outputs": [],
   "source": [
    "data_norm = data_norm/255.0"
   ]
  },
  {
   "cell_type": "code",
   "execution_count": 15,
   "metadata": {},
   "outputs": [],
   "source": [
    "data_norm = data_norm.reshape([1,32,32,3])"
   ]
  },
  {
   "cell_type": "code",
   "execution_count": 16,
   "metadata": {
    "scrolled": false
   },
   "outputs": [
    {
     "data": {
      "text/plain": [
       "array([[9.9996209e-01, 8.8566487e-10, 2.6932868e-05, 2.5329623e-09,\n",
       "        4.2732740e-06, 6.5456314e-11, 1.4802873e-09, 1.5911971e-09,\n",
       "        1.1780155e-07, 6.5877384e-06]], dtype=float32)"
      ]
     },
     "execution_count": 16,
     "metadata": {},
     "output_type": "execute_result"
    }
   ],
   "source": [
    "model.predict(data_norm)"
   ]
  },
  {
   "cell_type": "code",
   "execution_count": 17,
   "metadata": {},
   "outputs": [
    {
     "data": {
      "text/plain": [
       "(50000, 32, 32, 3)"
      ]
     },
     "execution_count": 17,
     "metadata": {},
     "output_type": "execute_result"
    }
   ],
   "source": [
    "trainX.shape"
   ]
  },
  {
   "cell_type": "code",
   "execution_count": 18,
   "metadata": {},
   "outputs": [
    {
     "data": {
      "text/plain": [
       "(1, 32, 32, 3)"
      ]
     },
     "execution_count": 18,
     "metadata": {},
     "output_type": "execute_result"
    }
   ],
   "source": [
    "data_norm.shape"
   ]
  },
  {
   "cell_type": "code",
   "execution_count": 19,
   "metadata": {},
   "outputs": [
    {
     "data": {
      "text/plain": [
       "array([[[[0.1764706 , 0.5176471 , 0.81960785],\n",
       "         [0.1882353 , 0.5176471 , 0.8       ],\n",
       "         [0.20392157, 0.5176471 , 0.7647059 ],\n",
       "         ...,\n",
       "         [0.20392157, 0.54509807, 0.80784315],\n",
       "         [0.20784314, 0.5529412 , 0.8039216 ],\n",
       "         [0.21176471, 0.5568628 , 0.80784315]],\n",
       "\n",
       "        [[0.20784314, 0.5058824 , 0.8117647 ],\n",
       "         [0.20784314, 0.5058824 , 0.8039216 ],\n",
       "         [0.21176471, 0.50980395, 0.8039216 ],\n",
       "         ...,\n",
       "         [0.21568628, 0.5372549 , 0.8235294 ],\n",
       "         [0.21960784, 0.5411765 , 0.827451  ],\n",
       "         [0.22352941, 0.54901963, 0.8235294 ]],\n",
       "\n",
       "        [[0.21176471, 0.50980395, 0.80784315],\n",
       "         [0.20784314, 0.50980395, 0.8156863 ],\n",
       "         [0.19607843, 0.5137255 , 0.8235294 ],\n",
       "         ...,\n",
       "         [0.22745098, 0.53333336, 0.827451  ],\n",
       "         [0.23529412, 0.53333336, 0.83137256],\n",
       "         [0.24705882, 0.53333336, 0.8352941 ]],\n",
       "\n",
       "        ...,\n",
       "\n",
       "        [[0.85882354, 0.87058824, 0.92941177],\n",
       "         [0.84705883, 0.84705883, 0.89411765],\n",
       "         [0.8509804 , 0.8352941 , 0.8901961 ],\n",
       "         ...,\n",
       "         [0.654902  , 0.73333335, 0.827451  ],\n",
       "         [0.63529414, 0.7176471 , 0.78431374],\n",
       "         [0.64705884, 0.73333335, 0.78431374]],\n",
       "\n",
       "        [[0.827451  , 0.8666667 , 0.90588236],\n",
       "         [0.85490197, 0.87058824, 0.90588236],\n",
       "         [0.8745098 , 0.8666667 , 0.9098039 ],\n",
       "         ...,\n",
       "         [0.63529414, 0.7176471 , 0.8392157 ],\n",
       "         [0.6313726 , 0.7058824 , 0.8235294 ],\n",
       "         [0.67058825, 0.74509805, 0.8627451 ]],\n",
       "\n",
       "        [[0.7647059 , 0.8235294 , 0.8509804 ],\n",
       "         [0.827451  , 0.8627451 , 0.88235295],\n",
       "         [0.8666667 , 0.87058824, 0.8901961 ],\n",
       "         ...,\n",
       "         [0.6745098 , 0.7372549 , 0.87058824],\n",
       "         [0.6313726 , 0.6862745 , 0.87058824],\n",
       "         [0.6431373 , 0.6862745 , 0.8980392 ]]]], dtype=float32)"
      ]
     },
     "execution_count": 19,
     "metadata": {},
     "output_type": "execute_result"
    }
   ],
   "source": [
    "data_norm.reshape([1,32,32,3])"
   ]
  },
  {
   "cell_type": "code",
   "execution_count": null,
   "metadata": {},
   "outputs": [],
   "source": []
  },
  {
   "cell_type": "code",
   "execution_count": null,
   "metadata": {},
   "outputs": [],
   "source": []
  }
 ],
 "metadata": {
  "kernelspec": {
   "display_name": "Python 3",
   "language": "python",
   "name": "python3"
  },
  "language_info": {
   "codemirror_mode": {
    "name": "ipython",
    "version": 3
   },
   "file_extension": ".py",
   "mimetype": "text/x-python",
   "name": "python",
   "nbconvert_exporter": "python",
   "pygments_lexer": "ipython3",
   "version": "3.8.5"
  }
 },
 "nbformat": 4,
 "nbformat_minor": 5
}