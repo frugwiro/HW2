# TensorFlow and tf.keras
import tensorflow as tf

# Helper libraries
import numpy as np
import matplotlib.pyplot as plt

from tensorflow.keras import Input, layers

print(tf.__version__)



# ##def unpickle(file):
#     import pickle
#     with open(file, 'rb') as fo:
#         dict = pickle.load(fo, encoding='bytes')
#     return dict


# filepath = './cifar-10-batches-py/data_batch_1'
# data = unpickle(filepath)


# data[b'data'].shape


# load train and test dataset
def load_dataset():
    # load dataset
    trainX, trainY, testX, testY = load_dataset()
    print('ifinished loading the dataset')
    # prepare pixel data
    trainX, testX = prep_pixels(trainX, testX)
    print('ifinished prep the dataset')
    # define model
    model = define_model()
    print('ifinished defining model')
    print(model.summary())
    # fit model
    history = model.fit(trainX, trainY, epochs=50, batch_size=64, validation_data=(testX, testY), verbose=0)
    print('ifinished training the model')
    # evaluate model
    _, acc = model.evaluate(testX, testY, verbose=0)
    print('> %.3f' % (acc * 100.0))
    # learning curves
    summarize_diagnostics(history)
    # entry point, run the test harness


#with Depthwise
# load dataset
trainX, trainY, testX, testY = load_dataset()
print('ifinished loading the dataset')
# prepare pixel data
trainX, testX = prep_pixels(trainX, testX)
print('ifinished prep the dataset')
# define model
model = define_model(depthwise=True)
print('ifinished defining model')
print(model.summary())
# fit model
history = model.fit(trainX, trainY, epochs=50, batch_size=64, validation_data=(testX, testY), verbose=0)
print('ifinished training the model')
# evaluate model
_, acc = model.evaluate(testX, testY, verbose=0)
print('> %.3f' % (acc * 100.0))
# learning curves
summarize_diagnostics(history)
# entry point, run the test harness


from PIL import Image
from numpy import asarray
# load the image
image = Image.open('aeroplane.jpeg')
# convert image to numpy array
data = asarray(image)
print(type(data))
# summarize shape
print(data.shape)


data_norm = data.astype('float32')


data_norm


data_norm = data_norm/255.0


data_norm = data_norm.reshape([1,32,32,3])


model.predict(data_norm)


trainX.shape


data_norm.shape


data_norm.reshape([1,32,32,3])


